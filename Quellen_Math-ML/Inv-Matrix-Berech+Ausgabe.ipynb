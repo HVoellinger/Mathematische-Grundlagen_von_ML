{
 "cells": [
  {
   "cell_type": "markdown",
   "metadata": {},
   "source": [
    "###  Berechne Inv(A) einer symmetrischen (3x3)-Matrix mit reelen Zahlen\n",
    "\n",
    "Du kannst dieses Code-Snippet in einem Jupyter Notebook ausführen. Importiere die benötigte \n",
    "NumPy-Bibliothek. \n",
    "Das Notebook erstellt eine symmetrische 3x3-Matrix A, berechnet Det(A) und Adj(A), woraus sich Inv(A) ergibt.\n",
    "\n",
    "Insgesamt besteht das Programm aus 4 Schritten. \n",
    "\n",
    "Autor: Hermann Völlinger, DHBW Stuttgart; Date: 7.10.2023"
   ]
  },
  {
   "cell_type": "markdown",
   "metadata": {},
   "source": [
    "#### 1. Schritt: Vorbereitungen und Berechnung+ Ausgabe von Det(A):\n",
    "\n",
    "Importiere NumPy-Bibliothek. Definiere symmetrische (3x3)-Matrix. Berechne Det(A) und zeige das Ergebniss. "
   ]
  },
  {
   "cell_type": "code",
   "execution_count": 1,
   "metadata": {},
   "outputs": [
    {
     "name": "stdout",
     "output_type": "stream",
     "text": [
      "Die Determinante von A = Det(A) ist gegeben durch:\n"
     ]
    },
    {
     "data": {
      "text/latex": [
       "$\\displaystyle a d f - a e^{2} - b^{2} f + 2 b c e - c^{2} d$"
      ],
      "text/plain": [
       "a*d*f - a*e**2 - b**2*f + 2*b*c*e - c**2*d"
      ]
     },
     "execution_count": 1,
     "metadata": {},
     "output_type": "execute_result"
    }
   ],
   "source": [
    "# Importiere die NumPy-Bibliothek\n",
    "import numpy as np\n",
    "\n",
    "# Importiere das sympy-Modul\n",
    "import sympy as sp \n",
    "\n",
    "# Import libary time to check execution date+time\n",
    "import time\n",
    "\n",
    "# Definiere die reellen Variablen als Symbole\n",
    "a, b, c, d, e, f = sp.symbols('a b c d e f')\n",
    "\n",
    "# Definiere die 3x3-Matrix A mit den Symbolen\n",
    "A=sp.Matrix([[a,b,c],\n",
    "             [b,d,e],\n",
    "             [c,e,f]])\n",
    "\n",
    "# Berechne die Determinante von A und klammere sie aus\n",
    "det_A=sp.det(A)\n",
    "\n",
    "print(\"Die Determinante von A = Det(A) ist gegeben durch:\")\n",
    "det_A"
   ]
  },
  {
   "cell_type": "markdown",
   "metadata": {},
   "source": [
    "#### 2. Schritt: Berechne Kofaktoren als einzelne Zeilen und Adj(A):\n",
    "\n",
    "Adj(A) = symmetrisch (C_12=C_21; C_13=C_31) mit 6 Kofaktoren: C_11, C_12, C_13, C_22, C_23 und C_33."
   ]
  },
  {
   "cell_type": "code",
   "execution_count": 2,
   "metadata": {},
   "outputs": [],
   "source": [
    "# Berechne die 6 Kofaktoren\n",
    "C_11 = (A[1, 1] * A[2, 2] - A[2, 1] * A[1, 2])\n",
    "C_12 = -(A[1, 0] * A[2, 2] - A[2, 0] * A[1, 2])\n",
    "C_13 = (A[1, 0] * A[2, 1] - A[2, 0] * A[1, 1])\n",
    "C_22 = (A[0, 0] * A[2, 2] - A[2, 0] * A[0, 2])\n",
    "C_23 = -(A[0, 0] * A[2, 1] - A[2, 0] * A[0, 1])\n",
    "C_33 = (A[0, 0] * A[1, 1] - A[1, 0] * A[0, 1])\n",
    "\n",
    "# Berechne die adjungierte Matrix Adj(A)\n",
    "Adj_A = sp.Matrix([[C_11, C_12, C_13],\n",
    "                  [C_12, C_22, C_23],\n",
    "                  [C_13, C_23, C_33]])"
   ]
  },
  {
   "cell_type": "markdown",
   "metadata": {},
   "source": [
    "#### 3. Schritt: Ausgabe Kofaktoren als einzelne Zeilen und Adj(A):\n"
   ]
  },
  {
   "cell_type": "code",
   "execution_count": 3,
   "metadata": {},
   "outputs": [
    {
     "name": "stdout",
     "output_type": "stream",
     "text": [
      "Die Kofaktoren sind:\n",
      "C_11 = d*f - e**2\n",
      "C_12 = -b*f + c*e\n",
      "C_13 = b*e - c*d\n",
      "C_22 = a*f - c**2\n",
      "C_23 = -a*e + b*c\n",
      "C_33 = a*d - b**2\n",
      " \n",
      "Die adjungierte Matrix ist somit Adj(A):\n"
     ]
    },
    {
     "data": {
      "text/latex": [
       "$\\displaystyle \\left[\\begin{matrix}d f - e^{2} & - b f + c e & b e - c d\\\\- b f + c e & a f - c^{2} & - a e + b c\\\\b e - c d & - a e + b c & a d - b^{2}\\end{matrix}\\right]$"
      ],
      "text/plain": [
       "Matrix([\n",
       "[d*f - e**2, -b*f + c*e,  b*e - c*d],\n",
       "[-b*f + c*e, a*f - c**2, -a*e + b*c],\n",
       "[ b*e - c*d, -a*e + b*c, a*d - b**2]])"
      ]
     },
     "execution_count": 3,
     "metadata": {},
     "output_type": "execute_result"
    }
   ],
   "source": [
    "# Ausgabe der Kofaktoren als einzelne Zeilen und adjungierten Matrix\n",
    "print(\"Die Kofaktoren sind:\")\n",
    "print(\"C_11 =\", C_11)\n",
    "print(\"C_12 =\", C_12)\n",
    "print(\"C_13 =\", C_13)\n",
    "print(\"C_22 =\", C_22)\n",
    "print(\"C_23 =\", C_23)\n",
    "print(\"C_33 =\", C_33)\n",
    "print(\" \")\n",
    "# Darstellung der adjungierten Matrix Adj(A) in Matrixschreibweise einer 3x3-Matrix\n",
    "print(\"Die adjungierte Matrix ist somit Adj(A):\")\n",
    "Adj_A"
   ]
  },
  {
   "cell_type": "markdown",
   "metadata": {},
   "source": [
    "#### 4. Schritt: Berechnung und Ausgabe von Inv(A):\n",
    "\n",
    "Inverse(A) = 1/det(A)*Adj(A), wobei det(A) im 1. und Adj(A) im 2. Schritt berechnet wurde."
   ]
  },
  {
   "cell_type": "code",
   "execution_count": 4,
   "metadata": {},
   "outputs": [
    {
     "name": "stdout",
     "output_type": "stream",
     "text": [
      "Inv(A) = 1/det(A)*Adj(A) ist somit gegeben durch:\n"
     ]
    },
    {
     "data": {
      "text/latex": [
       "$\\displaystyle \\left[\\begin{matrix}\\frac{d f - e^{2}}{a d f - a e^{2} - b^{2} f + 2 b c e - c^{2} d} & \\frac{- b f + c e}{a d f - a e^{2} - b^{2} f + 2 b c e - c^{2} d} & \\frac{b e - c d}{a d f - a e^{2} - b^{2} f + 2 b c e - c^{2} d}\\\\\\frac{- b f + c e}{a d f - a e^{2} - b^{2} f + 2 b c e - c^{2} d} & \\frac{a f - c^{2}}{a d f - a e^{2} - b^{2} f + 2 b c e - c^{2} d} & \\frac{- a e + b c}{a d f - a e^{2} - b^{2} f + 2 b c e - c^{2} d}\\\\\\frac{b e - c d}{a d f - a e^{2} - b^{2} f + 2 b c e - c^{2} d} & \\frac{- a e + b c}{a d f - a e^{2} - b^{2} f + 2 b c e - c^{2} d} & \\frac{a d - b^{2}}{a d f - a e^{2} - b^{2} f + 2 b c e - c^{2} d}\\end{matrix}\\right]$"
      ],
      "text/plain": [
       "Matrix([\n",
       "[(d*f - e**2)/(a*d*f - a*e**2 - b**2*f + 2*b*c*e - c**2*d), (-b*f + c*e)/(a*d*f - a*e**2 - b**2*f + 2*b*c*e - c**2*d),  (b*e - c*d)/(a*d*f - a*e**2 - b**2*f + 2*b*c*e - c**2*d)],\n",
       "[(-b*f + c*e)/(a*d*f - a*e**2 - b**2*f + 2*b*c*e - c**2*d), (a*f - c**2)/(a*d*f - a*e**2 - b**2*f + 2*b*c*e - c**2*d), (-a*e + b*c)/(a*d*f - a*e**2 - b**2*f + 2*b*c*e - c**2*d)],\n",
       "[ (b*e - c*d)/(a*d*f - a*e**2 - b**2*f + 2*b*c*e - c**2*d), (-a*e + b*c)/(a*d*f - a*e**2 - b**2*f + 2*b*c*e - c**2*d), (a*d - b**2)/(a*d*f - a*e**2 - b**2*f + 2*b*c*e - c**2*d)]])"
      ]
     },
     "execution_count": 4,
     "metadata": {},
     "output_type": "execute_result"
    }
   ],
   "source": [
    "# Berechne die inverse Matrix von A\n",
    "A_inv = (1 / det_A) * Adj_A\n",
    "\n",
    "# Beschreibung der Formel für Inverse(A)\n",
    "print(\"Inv(A) = 1/det(A)*Adj(A) ist somit gegeben durch:\") \n",
    "A_inv"
   ]
  },
  {
   "cell_type": "code",
   "execution_count": 5,
   "metadata": {},
   "outputs": [
    {
     "name": "stdout",
     "output_type": "stream",
     "text": [
      "************************************************************************\n",
      "Actual date & time of the notebook: 07.10.2023  21:52:12\n",
      "************************************************************************\n"
     ]
    }
   ],
   "source": [
    "# print the date & time of the notebook\n",
    "print('************************************************************************')\n",
    "print(\"Actual date & time of the notebook:\",time.strftime(\"%d.%m.%Y  %H:%M:%S\")) \n",
    "print('************************************************************************')"
   ]
  }
 ],
 "metadata": {
  "kernelspec": {
   "display_name": "Python 3",
   "language": "python",
   "name": "python3"
  },
  "language_info": {
   "codemirror_mode": {
    "name": "ipython",
    "version": 3
   },
   "file_extension": ".py",
   "mimetype": "text/x-python",
   "name": "python",
   "nbconvert_exporter": "python",
   "pygments_lexer": "ipython3",
   "version": "3.7.6"
  }
 },
 "nbformat": 4,
 "nbformat_minor": 4
}
